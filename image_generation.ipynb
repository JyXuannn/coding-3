{
 "cells": [
  {
   "cell_type": "code",
   "execution_count": null,
   "metadata": {
    "id": "H8SK30CQNGfJ"
   },
   "outputs": [],
   "source": [
    "import os\n",
    "from PIL import Image\n",
    "import tensorflow as tf\n",
    "from tensorflow import keras\n",
    "from tensorflow.keras import layers\n",
    "import matplotlib.pyplot as plt\n",
    "import numpy as np"
   ]
  },
  {
   "cell_type": "markdown",
   "metadata": {
    "id": "VcvLOB_JNJL9"
   },
   "source": [
    "# Funtion to load and preprocess data"
   ]
  },
  {
   "cell_type": "code",
   "execution_count": null,
   "metadata": {
    "id": "MVBhFa19NJ-b"
   },
   "outputs": [],
   "source": [
    "def load_crop_data(path='data/frontal'):\n",
    "\n",
    "    res_size = 512\n",
    "\n",
    "    res = []\n",
    "\n",
    "    for filename in os.listdir(path):\n",
    "        image_path = os.path.join(path, filename)\n",
    "        image = Image.open(image_path)\n",
    "        width, height = image.size\n",
    "        min_side = min(width, height)\n",
    "        p1 = (width - min_side) // 2\n",
    "        p2 = (height - min_side) // 2\n",
    "        p3 = (width + min_side) // 2\n",
    "        p4 = (height + min_side) // 2\n",
    "        cropped_image = image.crop((p1, p2, p3, p4))\n",
    "        cropped_image = cropped_image.resize((res_size, res_size))\n",
    "        image_array = np.array(cropped_image)\n",
    "        res.append(image_array[np.newaxis, :, :, :])\n",
    "\n",
    "    res = np.concatenate(res, axis=0)\n",
    "    return res"
   ]
  },
  {
   "cell_type": "markdown",
   "metadata": {
    "id": "Dzfqz32PNLf5"
   },
   "source": [
    "# Function to display generated image"
   ]
  },
  {
   "cell_type": "code",
   "execution_count": null,
   "metadata": {
    "id": "2y-S1SuPNLww"
   },
   "outputs": [],
   "source": [
    "def display_image(epoch_idx):\n",
    "    return Image.open(f\"generated/generated_images_epoch_{epoch_idx + 1}.png\")"
   ]
  },
  {
   "cell_type": "markdown",
   "metadata": {
    "id": "oKHZySkKNNfo"
   },
   "source": [
    "# Defining generator structure"
   ]
  },
  {
   "cell_type": "code",
   "execution_count": null,
   "metadata": {
    "id": "S6Lr1WPZNOPU"
   },
   "outputs": [],
   "source": [
    "def build_generator(latent_dim):\n",
    "    model = keras.Sequential()\n",
    "    model.add(layers.Dense(8 * 8 * 64, input_dim=latent_dim))\n",
    "    model.add(layers.Reshape((8, 8, 64)))\n",
    "    model.add(layers.Conv2DTranspose(64, kernel_size=8, strides=2, padding=\"same\"))\n",
    "    model.add(layers.BatchNormalization())\n",
    "    model.add(layers.LeakyReLU(alpha=0.01))\n",
    "    model.add(layers.Conv2DTranspose(32, kernel_size=8, strides=2, padding=\"same\"))\n",
    "    model.add(layers.BatchNormalization())\n",
    "    model.add(layers.LeakyReLU(alpha=0.01))\n",
    "    model.add(layers.Conv2DTranspose(16, kernel_size=4, strides=2, padding=\"same\"))\n",
    "    model.add(layers.BatchNormalization())\n",
    "    model.add(layers.LeakyReLU(alpha=0.01))\n",
    "    model.add(layers.Conv2DTranspose(8, kernel_size=4, strides=2, padding=\"same\"))\n",
    "    model.add(layers.BatchNormalization())\n",
    "    model.add(layers.LeakyReLU(alpha=0.01))\n",
    "    model.add(layers.Conv2DTranspose(8, kernel_size=4, strides=2, padding=\"same\"))\n",
    "    model.add(layers.BatchNormalization())\n",
    "    model.add(layers.LeakyReLU(alpha=0.01))\n",
    "    model.add(layers.Conv2DTranspose(3, kernel_size=4, strides=2, padding=\"same\", activation=\"sigmoid\"))\n",
    "    return model"
   ]
  },
  {
   "cell_type": "markdown",
   "metadata": {
    "id": "Rj0EuSMSNPa7"
   },
   "source": [
    "# Defining discriminator structure"
   ]
  },
  {
   "cell_type": "code",
   "execution_count": null,
   "metadata": {
    "id": "iJ3UI-UfNQS_"
   },
   "outputs": [],
   "source": [
    "def build_discriminator():\n",
    "    model = keras.Sequential()\n",
    "    model.add(layers.Conv2D(8, kernel_size=4, strides=2, padding=\"same\", input_shape=(512, 512, 3)))\n",
    "    model.add(layers.LeakyReLU(alpha=0.01))\n",
    "    model.add(layers.Conv2D(16, kernel_size=4, strides=2, padding=\"same\"))\n",
    "    model.add(layers.LeakyReLU(alpha=0.01))\n",
    "    model.add(layers.Conv2D(32, kernel_size=4, strides=4, padding=\"same\"))\n",
    "    model.add(layers.LeakyReLU(alpha=0.01))\n",
    "    model.add(layers.Conv2D(64, kernel_size=4, strides=2, padding=\"same\"))\n",
    "    model.add(layers.LeakyReLU(alpha=0.01))\n",
    "    model.add(layers.Conv2D(128, kernel_size=4, strides=4, padding=\"same\"))\n",
    "    model.add(layers.LeakyReLU(alpha=0.01))\n",
    "    model.add(layers.Flatten())\n",
    "    model.add(layers.Dense(1, activation=\"sigmoid\"))\n",
    "    return model"
   ]
  },
  {
   "cell_type": "markdown",
   "metadata": {
    "id": "L2ctvyicNR-4"
   },
   "source": [
    "# Defining losses"
   ]
  },
  {
   "cell_type": "code",
   "execution_count": null,
   "metadata": {
    "id": "iRXb7M3kNSyI"
   },
   "outputs": [],
   "source": [
    "cross_entropy = keras.losses.BinaryCrossentropy(from_logits=True)\n",
    "\n",
    "def generator_loss(fake_output):\n",
    "    return cross_entropy(tf.ones_like(fake_output), fake_output)\n",
    "\n",
    "def discriminator_loss(real_output, fake_output):\n",
    "    real_loss = cross_entropy(tf.ones_like(real_output), real_output)\n",
    "    fake_loss = cross_entropy(tf.zeros_like(fake_output), fake_output)\n",
    "    total_loss = real_loss + fake_loss\n",
    "    return total_loss"
   ]
  },
  {
   "cell_type": "markdown",
   "metadata": {
    "id": "LzfwJL6FNTrO"
   },
   "source": [
    "# Model initialization"
   ]
  },
  {
   "cell_type": "code",
   "execution_count": null,
   "metadata": {
    "id": "s57wWDSjNUiA"
   },
   "outputs": [],
   "source": [
    "latent_dim = 16384\n",
    "generator = build_generator(latent_dim)\n",
    "discriminator = build_discriminator()\n",
    "\n",
    "generator_optimizer = keras.optimizers.Adam(learning_rate=0.00002, beta_1=0.2)\n",
    "discriminator_optimizer = keras.optimizers.Adam(learning_rate=0.00002, beta_1=0.2)"
   ]
  },
  {
   "cell_type": "markdown",
   "metadata": {
    "id": "dzP7z_JYNXdH"
   },
   "source": [
    "# Function to generate an image to observe the trainig process"
   ]
  },
  {
   "cell_type": "code",
   "execution_count": null,
   "metadata": {
    "id": "ql8lmUojNYUs"
   },
   "outputs": [],
   "source": [
    "def generate_images(model, epoch, input):\n",
    "    predictions = model(input, training=False)\n",
    "\n",
    "    fig = plt.figure(figsize=(4, 4))\n",
    "    for i in range(predictions.shape[0]):\n",
    "        plt.subplot(4, 4, i + 1)\n",
    "        plt.imshow(predictions[i, :, :, :])\n",
    "        plt.axis('off')\n",
    "\n",
    "    plt.savefig(f\"generated/generated_images_epoch_{epoch + 1}.png\")\n",
    "    plt.show()\n",
    "    plt.clf()"
   ]
  },
  {
   "cell_type": "markdown",
   "metadata": {
    "id": "qoGlJSAYNZV6"
   },
   "source": [
    "# Defining the training step"
   ]
  },
  {
   "cell_type": "code",
   "execution_count": null,
   "metadata": {
    "id": "Yycv-UDsNaGq"
   },
   "outputs": [],
   "source": [
    "@tf.function\n",
    "def train_step(images):\n",
    "\n",
    "    noise = tf.random.normal([batch_size, latent_dim])\n",
    "\n",
    "\n",
    "    with tf.GradientTape() as gen_tape, tf.GradientTape() as disc_tape:\n",
    "        generated_images = generator(noise, training=True)\n",
    "\n",
    "\n",
    "        real_output = discriminator(images, training=True)\n",
    "\n",
    "        fake_output = discriminator(generated_images, training=True)\n",
    "\n",
    "        gen_loss = generator_loss(fake_output)\n",
    "        disc_loss = discriminator_loss(real_output, fake_output)\n",
    "\n",
    "    gradients_of_generator = gen_tape.gradient(gen_loss, generator.trainable_variables)\n",
    "    gradients_of_discriminator = disc_tape.gradient(disc_loss, discriminator.trainable_variables)\n",
    "\n",
    "    generator_optimizer.apply_gradients(zip(gradients_of_generator, generator.trainable_variables))\n",
    "    discriminator_optimizer.apply_gradients(zip(gradients_of_discriminator, discriminator.trainable_variables))"
   ]
  },
  {
   "cell_type": "markdown",
   "metadata": {
    "id": "qT3wWr2oNbO-"
   },
   "source": [
    "# Start training"
   ]
  },
  {
   "cell_type": "code",
   "execution_count": null,
   "metadata": {
    "id": "nUhClYNzNc4M"
   },
   "outputs": [],
   "source": [
    "batch_size = 32\n",
    "\n",
    "X_train = load_crop_data()\n",
    "X_train = (X_train.astype('float32')) / 255\n",
    "train_dataset = tf.data.Dataset.from_tensor_slices(X_train).shuffle(X_train.shape[0]).batch(batch_size)\n",
    "\n",
    "epochs = 10000\n",
    "for epoch in range(epochs):\n",
    "    for image_batch in train_dataset:\n",
    "        train_step(image_batch)\n",
    "\n",
    "    if (epoch + 1) % 10 == 0:\n",
    "        generate_images(generator, epoch, tf.random.normal([16, latent_dim]))\n",
    "        print(f\"Epoch {epoch + 1} completed.\")\n",
    "\n",
    "display_image(epochs)"
   ]
  },
  {
   "cell_type": "code",
   "execution_count": null,
   "metadata": {},
   "outputs": [],
   "source": []
  },
  {
   "cell_type": "code",
   "execution_count": null,
   "metadata": {},
   "outputs": [],
   "source": []
  },
  {
   "cell_type": "code",
   "execution_count": null,
   "metadata": {},
   "outputs": [],
   "source": []
  }
 ],
 "metadata": {
  "colab": {
   "provenance": []
  },
  "kernelspec": {
   "display_name": "Python 3 (ipykernel)",
   "language": "python",
   "name": "python3"
  },
  "language_info": {
   "codemirror_mode": {
    "name": "ipython",
    "version": 3
   },
   "file_extension": ".py",
   "mimetype": "text/x-python",
   "name": "python",
   "nbconvert_exporter": "python",
   "pygments_lexer": "ipython3",
   "version": "3.9.16"
  }
 },
 "nbformat": 4,
 "nbformat_minor": 1
}
